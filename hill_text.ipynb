{
  "nbformat": 4,
  "nbformat_minor": 0,
  "metadata": {
    "colab": {
      "provenance": [],
      "authorship_tag": "ABX9TyNbMsdUiudlICB2dpU655hm",
      "include_colab_link": true
    },
    "kernelspec": {
      "name": "python3",
      "display_name": "Python 3"
    },
    "language_info": {
      "name": "python"
    }
  },
  "cells": [
    {
      "cell_type": "markdown",
      "metadata": {
        "id": "view-in-github",
        "colab_type": "text"
      },
      "source": [
        "<a href=\"https://colab.research.google.com/github/noname1711/cryptography_theory/blob/main/hill_text.ipynb\" target=\"_parent\"><img src=\"https://colab.research.google.com/assets/colab-badge.svg\" alt=\"Open In Colab\"/></a>"
      ]
    },
    {
      "cell_type": "code",
      "execution_count": 1,
      "metadata": {
        "id": "zGHzt33cdiIS"
      },
      "outputs": [],
      "source": [
        "import numpy as np\n",
        "from google.colab import files"
      ]
    },
    {
      "cell_type": "code",
      "source": [
        "# Hàm chuyển ký tự thành số (A=0, B=1, ..., Z=25)\n",
        "def char_to_num(c):\n",
        "    return ord(c.upper()) - ord('A')"
      ],
      "metadata": {
        "id": "uO2UCSJHd3B2"
      },
      "execution_count": 2,
      "outputs": []
    },
    {
      "cell_type": "code",
      "source": [
        "# Hàm chuyển số thành ký tự\n",
        "def num_to_char(n):\n",
        "    return chr(n + ord('A'))"
      ],
      "metadata": {
        "id": "2sRS8Auod8pn"
      },
      "execution_count": 3,
      "outputs": []
    },
    {
      "cell_type": "code",
      "source": [
        "# Hàm tạo ma trận khóa từ khóa nhập vào\n",
        "def create_key_matrix(key):\n",
        "    key = [char_to_num(c) for c in key if c.isalpha()]\n",
        "    size = int(len(key) ** 0.5)  # Tính kích thước ma trận (2x2 hoặc 3x3)\n",
        "    return np.array(key).reshape(size, size)"
      ],
      "metadata": {
        "id": "5wW_gI5seBnA"
      },
      "execution_count": 4,
      "outputs": []
    },
    {
      "cell_type": "code",
      "source": [
        "# Hàm tính ma trận nghịch đảo (mod 26)\n",
        "def mod_inverse(matrix, mod):\n",
        "    det = int(np.round(np.linalg.det(matrix)))\n",
        "    det_inv = pow(det, -1, mod)  # Tính nghịch đảo của định thức mod 26\n",
        "    matrix_inv = np.linalg.inv(matrix) * det_inv\n",
        "    matrix_inv = np.round(matrix_inv).astype(int) % mod\n",
        "    return matrix_inv"
      ],
      "metadata": {
        "id": "bkNf6cIZeC3O"
      },
      "execution_count": 5,
      "outputs": []
    },
    {
      "cell_type": "code",
      "source": [
        "def hill_encrypt(text, key_matrix):\n",
        "    # Loại bỏ khoảng trắng và ký tự không phải chữ cái\n",
        "    text = ''.join([c for c in text if c.isalpha()])\n",
        "    size = key_matrix.shape[0]\n",
        "\n",
        "    # Chuẩn bị văn bản thành các khối phù hợp với ma trận\n",
        "    text_nums = [char_to_num(c) for c in text]\n",
        "\n",
        "    # Thêm ký tự 'X' nếu số ký tự không chia hết cho kích thước ma trận\n",
        "    while len(text_nums) % size != 0:\n",
        "        text_nums.append(char_to_num('X'))\n",
        "\n",
        "    # Mã hóa mỗi khối văn bản bằng ma trận khóa\n",
        "    encrypted_text = []\n",
        "    for i in range(0, len(text_nums), size):\n",
        "        block = np.array(text_nums[i:i + size])\n",
        "        encrypted_block = np.dot(key_matrix, block) % 26\n",
        "        encrypted_text.extend(encrypted_block)\n",
        "\n",
        "    # Chuyển lại thành ký tự\n",
        "    encrypted_text = ''.join([num_to_char(n) for n in encrypted_text])\n",
        "    return encrypted_text"
      ],
      "metadata": {
        "id": "4aI1QTEoeGCe"
      },
      "execution_count": 6,
      "outputs": []
    },
    {
      "cell_type": "code",
      "source": [
        "# Hàm đọc file, mã hóa và ghi lại kết quả\n",
        "def encrypt_file(input_file, key):\n",
        "    # Tạo ma trận khóa\n",
        "    key_matrix = create_key_matrix(key)\n",
        "\n",
        "    # Đọc nội dung từ file\n",
        "    with open(input_file, 'r') as file:\n",
        "        text = file.read()\n",
        "\n",
        "    # Mã hóa nội dung\n",
        "    encrypted_text = hill_encrypt(text, key_matrix)\n",
        "\n",
        "    # Ghi kết quả mã hóa vào file mới\n",
        "    output_file = 'encrypted_hill.txt'\n",
        "    with open(output_file, 'w') as file:\n",
        "        file.write(encrypted_text)\n",
        "\n",
        "    return output_file"
      ],
      "metadata": {
        "id": "b6AseU-reKaB"
      },
      "execution_count": 7,
      "outputs": []
    },
    {
      "cell_type": "code",
      "source": [
        "# Tải file từ Google Colab\n",
        "uploaded = files.upload()\n",
        "#Ma trận 2x2: Khóa có 4 ký tự, văn bản cần có số ký tự chia hết cho 4. Nếu văn bản có 7 ký tự, bạn có thể thêm 1 ký tự 'X' vào cuối để làm cho tổng số ký tự thành 8.\n",
        "\n",
        "#Văn bản gốc: \"HELLO\" (5 ký tự)\n",
        "#Văn bản sau khi thêm ký tự bổ sung: \"HELLOX\" (6 ký tự) -> Chưa đủ\n",
        "#Văn bản sau khi thêm ký tự 'X' nữa: \"HELLOXX\" (8 ký tự) -> Đủ điều kiện"
      ],
      "metadata": {
        "colab": {
          "base_uri": "https://localhost:8080/",
          "height": 73
        },
        "id": "4fQDCGuqeOlm",
        "outputId": "96417f32-1b2d-4258-bb0d-f6c6aff1e08f"
      },
      "execution_count": 8,
      "outputs": [
        {
          "output_type": "display_data",
          "data": {
            "text/plain": [
              "<IPython.core.display.HTML object>"
            ],
            "text/html": [
              "\n",
              "     <input type=\"file\" id=\"files-120a103e-561b-4b4a-9b13-e265973de7a3\" name=\"files[]\" multiple disabled\n",
              "        style=\"border:none\" />\n",
              "     <output id=\"result-120a103e-561b-4b4a-9b13-e265973de7a3\">\n",
              "      Upload widget is only available when the cell has been executed in the\n",
              "      current browser session. Please rerun this cell to enable.\n",
              "      </output>\n",
              "      <script>// Copyright 2017 Google LLC\n",
              "//\n",
              "// Licensed under the Apache License, Version 2.0 (the \"License\");\n",
              "// you may not use this file except in compliance with the License.\n",
              "// You may obtain a copy of the License at\n",
              "//\n",
              "//      http://www.apache.org/licenses/LICENSE-2.0\n",
              "//\n",
              "// Unless required by applicable law or agreed to in writing, software\n",
              "// distributed under the License is distributed on an \"AS IS\" BASIS,\n",
              "// WITHOUT WARRANTIES OR CONDITIONS OF ANY KIND, either express or implied.\n",
              "// See the License for the specific language governing permissions and\n",
              "// limitations under the License.\n",
              "\n",
              "/**\n",
              " * @fileoverview Helpers for google.colab Python module.\n",
              " */\n",
              "(function(scope) {\n",
              "function span(text, styleAttributes = {}) {\n",
              "  const element = document.createElement('span');\n",
              "  element.textContent = text;\n",
              "  for (const key of Object.keys(styleAttributes)) {\n",
              "    element.style[key] = styleAttributes[key];\n",
              "  }\n",
              "  return element;\n",
              "}\n",
              "\n",
              "// Max number of bytes which will be uploaded at a time.\n",
              "const MAX_PAYLOAD_SIZE = 100 * 1024;\n",
              "\n",
              "function _uploadFiles(inputId, outputId) {\n",
              "  const steps = uploadFilesStep(inputId, outputId);\n",
              "  const outputElement = document.getElementById(outputId);\n",
              "  // Cache steps on the outputElement to make it available for the next call\n",
              "  // to uploadFilesContinue from Python.\n",
              "  outputElement.steps = steps;\n",
              "\n",
              "  return _uploadFilesContinue(outputId);\n",
              "}\n",
              "\n",
              "// This is roughly an async generator (not supported in the browser yet),\n",
              "// where there are multiple asynchronous steps and the Python side is going\n",
              "// to poll for completion of each step.\n",
              "// This uses a Promise to block the python side on completion of each step,\n",
              "// then passes the result of the previous step as the input to the next step.\n",
              "function _uploadFilesContinue(outputId) {\n",
              "  const outputElement = document.getElementById(outputId);\n",
              "  const steps = outputElement.steps;\n",
              "\n",
              "  const next = steps.next(outputElement.lastPromiseValue);\n",
              "  return Promise.resolve(next.value.promise).then((value) => {\n",
              "    // Cache the last promise value to make it available to the next\n",
              "    // step of the generator.\n",
              "    outputElement.lastPromiseValue = value;\n",
              "    return next.value.response;\n",
              "  });\n",
              "}\n",
              "\n",
              "/**\n",
              " * Generator function which is called between each async step of the upload\n",
              " * process.\n",
              " * @param {string} inputId Element ID of the input file picker element.\n",
              " * @param {string} outputId Element ID of the output display.\n",
              " * @return {!Iterable<!Object>} Iterable of next steps.\n",
              " */\n",
              "function* uploadFilesStep(inputId, outputId) {\n",
              "  const inputElement = document.getElementById(inputId);\n",
              "  inputElement.disabled = false;\n",
              "\n",
              "  const outputElement = document.getElementById(outputId);\n",
              "  outputElement.innerHTML = '';\n",
              "\n",
              "  const pickedPromise = new Promise((resolve) => {\n",
              "    inputElement.addEventListener('change', (e) => {\n",
              "      resolve(e.target.files);\n",
              "    });\n",
              "  });\n",
              "\n",
              "  const cancel = document.createElement('button');\n",
              "  inputElement.parentElement.appendChild(cancel);\n",
              "  cancel.textContent = 'Cancel upload';\n",
              "  const cancelPromise = new Promise((resolve) => {\n",
              "    cancel.onclick = () => {\n",
              "      resolve(null);\n",
              "    };\n",
              "  });\n",
              "\n",
              "  // Wait for the user to pick the files.\n",
              "  const files = yield {\n",
              "    promise: Promise.race([pickedPromise, cancelPromise]),\n",
              "    response: {\n",
              "      action: 'starting',\n",
              "    }\n",
              "  };\n",
              "\n",
              "  cancel.remove();\n",
              "\n",
              "  // Disable the input element since further picks are not allowed.\n",
              "  inputElement.disabled = true;\n",
              "\n",
              "  if (!files) {\n",
              "    return {\n",
              "      response: {\n",
              "        action: 'complete',\n",
              "      }\n",
              "    };\n",
              "  }\n",
              "\n",
              "  for (const file of files) {\n",
              "    const li = document.createElement('li');\n",
              "    li.append(span(file.name, {fontWeight: 'bold'}));\n",
              "    li.append(span(\n",
              "        `(${file.type || 'n/a'}) - ${file.size} bytes, ` +\n",
              "        `last modified: ${\n",
              "            file.lastModifiedDate ? file.lastModifiedDate.toLocaleDateString() :\n",
              "                                    'n/a'} - `));\n",
              "    const percent = span('0% done');\n",
              "    li.appendChild(percent);\n",
              "\n",
              "    outputElement.appendChild(li);\n",
              "\n",
              "    const fileDataPromise = new Promise((resolve) => {\n",
              "      const reader = new FileReader();\n",
              "      reader.onload = (e) => {\n",
              "        resolve(e.target.result);\n",
              "      };\n",
              "      reader.readAsArrayBuffer(file);\n",
              "    });\n",
              "    // Wait for the data to be ready.\n",
              "    let fileData = yield {\n",
              "      promise: fileDataPromise,\n",
              "      response: {\n",
              "        action: 'continue',\n",
              "      }\n",
              "    };\n",
              "\n",
              "    // Use a chunked sending to avoid message size limits. See b/62115660.\n",
              "    let position = 0;\n",
              "    do {\n",
              "      const length = Math.min(fileData.byteLength - position, MAX_PAYLOAD_SIZE);\n",
              "      const chunk = new Uint8Array(fileData, position, length);\n",
              "      position += length;\n",
              "\n",
              "      const base64 = btoa(String.fromCharCode.apply(null, chunk));\n",
              "      yield {\n",
              "        response: {\n",
              "          action: 'append',\n",
              "          file: file.name,\n",
              "          data: base64,\n",
              "        },\n",
              "      };\n",
              "\n",
              "      let percentDone = fileData.byteLength === 0 ?\n",
              "          100 :\n",
              "          Math.round((position / fileData.byteLength) * 100);\n",
              "      percent.textContent = `${percentDone}% done`;\n",
              "\n",
              "    } while (position < fileData.byteLength);\n",
              "  }\n",
              "\n",
              "  // All done.\n",
              "  yield {\n",
              "    response: {\n",
              "      action: 'complete',\n",
              "    }\n",
              "  };\n",
              "}\n",
              "\n",
              "scope.google = scope.google || {};\n",
              "scope.google.colab = scope.google.colab || {};\n",
              "scope.google.colab._files = {\n",
              "  _uploadFiles,\n",
              "  _uploadFilesContinue,\n",
              "};\n",
              "})(self);\n",
              "</script> "
            ]
          },
          "metadata": {}
        },
        {
          "output_type": "stream",
          "name": "stdout",
          "text": [
            "Saving test.txt to test.txt\n"
          ]
        }
      ]
    },
    {
      "cell_type": "code",
      "source": [
        "# Yêu cầu người dùng nhập khóa (phải là ma trận vuông có số ký tự là 4, 9, ...)\n",
        "key = input(\"Nhập khóa (số kí tự phải là số chính phương): \")\n",
        "\n",
        "# Lấy tên file đã tải lên\n",
        "input_file = next(iter(uploaded))\n",
        "\n",
        "# Mã hóa file và tải file kết quả về\n",
        "output_file = encrypt_file(input_file, key)\n",
        "files.download(output_file)"
      ],
      "metadata": {
        "colab": {
          "base_uri": "https://localhost:8080/",
          "height": 34
        },
        "id": "w3czzWUPeStn",
        "outputId": "8d6d9668-bb29-4ce6-842b-7287e0db05e6"
      },
      "execution_count": 16,
      "outputs": [
        {
          "name": "stdout",
          "output_type": "stream",
          "text": [
            "Nhập khóa (số kí tự phải là số chính phương): ABCD\n"
          ]
        },
        {
          "output_type": "display_data",
          "data": {
            "text/plain": [
              "<IPython.core.display.Javascript object>"
            ],
            "application/javascript": [
              "\n",
              "    async function download(id, filename, size) {\n",
              "      if (!google.colab.kernel.accessAllowed) {\n",
              "        return;\n",
              "      }\n",
              "      const div = document.createElement('div');\n",
              "      const label = document.createElement('label');\n",
              "      label.textContent = `Downloading \"${filename}\": `;\n",
              "      div.appendChild(label);\n",
              "      const progress = document.createElement('progress');\n",
              "      progress.max = size;\n",
              "      div.appendChild(progress);\n",
              "      document.body.appendChild(div);\n",
              "\n",
              "      const buffers = [];\n",
              "      let downloaded = 0;\n",
              "\n",
              "      const channel = await google.colab.kernel.comms.open(id);\n",
              "      // Send a message to notify the kernel that we're ready.\n",
              "      channel.send({})\n",
              "\n",
              "      for await (const message of channel.messages) {\n",
              "        // Send a message to notify the kernel that we're ready.\n",
              "        channel.send({})\n",
              "        if (message.buffers) {\n",
              "          for (const buffer of message.buffers) {\n",
              "            buffers.push(buffer);\n",
              "            downloaded += buffer.byteLength;\n",
              "            progress.value = downloaded;\n",
              "          }\n",
              "        }\n",
              "      }\n",
              "      const blob = new Blob(buffers, {type: 'application/binary'});\n",
              "      const a = document.createElement('a');\n",
              "      a.href = window.URL.createObjectURL(blob);\n",
              "      a.download = filename;\n",
              "      div.appendChild(a);\n",
              "      a.click();\n",
              "      div.remove();\n",
              "    }\n",
              "  "
            ]
          },
          "metadata": {}
        },
        {
          "output_type": "display_data",
          "data": {
            "text/plain": [
              "<IPython.core.display.Javascript object>"
            ],
            "application/javascript": [
              "download(\"download_0479ef85-4b30-4356-b742-90f2043b6334\", \"encrypted_hill.txt\", 10)"
            ]
          },
          "metadata": {}
        }
      ]
    }
  ]
}