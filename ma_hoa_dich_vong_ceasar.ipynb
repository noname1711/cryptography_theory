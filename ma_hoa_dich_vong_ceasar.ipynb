{
  "nbformat": 4,
  "nbformat_minor": 0,
  "metadata": {
    "colab": {
      "provenance": [],
      "authorship_tag": "ABX9TyOOa+FYwaoEOXI05arDrYqP",
      "include_colab_link": true
    },
    "kernelspec": {
      "name": "python3",
      "display_name": "Python 3"
    },
    "language_info": {
      "name": "python"
    }
  },
  "cells": [
    {
      "cell_type": "markdown",
      "metadata": {
        "id": "view-in-github",
        "colab_type": "text"
      },
      "source": [
        "<a href=\"https://colab.research.google.com/github/noname1711/cryptography_theory/blob/main/ma_hoa_dich_vong_ceasar.ipynb\" target=\"_parent\"><img src=\"https://colab.research.google.com/assets/colab-badge.svg\" alt=\"Open In Colab\"/></a>"
      ]
    },
    {
      "cell_type": "code",
      "execution_count": 1,
      "metadata": {
        "id": "F6bCq66_VBRC"
      },
      "outputs": [],
      "source": [
        "def encrypt_caesar(plaintext, key):\n",
        "    n = 26       #26 chữ cái\n",
        "    ciphertext = \"\"\n",
        "    for char in plaintext:\n",
        "        if char.isalpha():     #kiểm tra xem có phải là chữ cái\n",
        "            shifted = (ord(char) - ord('A') + key) % n\n",
        "            ciphertext += chr(shifted + ord('A'))\n",
        "        else:\n",
        "            ciphertext += char\n",
        "    return ciphertext"
      ]
    },
    {
      "cell_type": "code",
      "source": [
        "def decrypt_caesar(ciphertext, key):\n",
        "    n = 26\n",
        "    plaintext = \"\"\n",
        "    for char in ciphertext:\n",
        "        if char.isalpha():\n",
        "            shifted = (ord(char) - ord('A') - key) % n\n",
        "            plaintext += chr(shifted + ord('A'))\n",
        "        else:\n",
        "            plaintext += char\n",
        "    return plaintext"
      ],
      "metadata": {
        "id": "hvI5eLoCgtc2"
      },
      "execution_count": 2,
      "outputs": []
    },
    {
      "cell_type": "code",
      "source": [
        "#mã hóa\n",
        "p = \"LEVIETHUNG\"\n",
        "k = 5\n",
        "c = encrypt_caesar(p, k)\n",
        "print(f\"Bản mã hóa: {c}\")"
      ],
      "metadata": {
        "colab": {
          "base_uri": "https://localhost:8080/"
        },
        "id": "1D2CDuzSg1QE",
        "outputId": "a273b8a6-7876-4f59-ee58-37ffec7c7d84"
      },
      "execution_count": 3,
      "outputs": [
        {
          "output_type": "stream",
          "name": "stdout",
          "text": [
            "Bản mã hóa: QJANJYMZSL\n"
          ]
        }
      ]
    },
    {
      "cell_type": "code",
      "source": [
        "#giải mã\n",
        "c = \"QJANJYMZSL\"\n",
        "p = decrypt_caesar(c, k)\n",
        "print(f\"Bản tin gốc: {p}\")"
      ],
      "metadata": {
        "colab": {
          "base_uri": "https://localhost:8080/"
        },
        "id": "e6Yzr_IHg50D",
        "outputId": "0802d98d-cdfd-45c0-fc0c-af98f497db68"
      },
      "execution_count": 4,
      "outputs": [
        {
          "output_type": "stream",
          "name": "stdout",
          "text": [
            "Bản tin gốc: LEVIETHUNG\n"
          ]
        }
      ]
    },
    {
      "cell_type": "markdown",
      "source": [
        "# Mục mới"
      ],
      "metadata": {
        "id": "FsIs0nxvBpw4"
      }
    }
  ]
}