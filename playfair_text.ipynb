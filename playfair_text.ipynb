{
  "nbformat": 4,
  "nbformat_minor": 0,
  "metadata": {
    "colab": {
      "provenance": [],
      "authorship_tag": "ABX9TyPl3vdoBZJyqRXX/kz9NYVG",
      "include_colab_link": true
    },
    "kernelspec": {
      "name": "python3",
      "display_name": "Python 3"
    },
    "language_info": {
      "name": "python"
    }
  },
  "cells": [
    {
      "cell_type": "markdown",
      "metadata": {
        "id": "view-in-github",
        "colab_type": "text"
      },
      "source": [
        "<a href=\"https://colab.research.google.com/github/noname1711/cryptography_theory/blob/main/playfair_text.ipynb\" target=\"_parent\"><img src=\"https://colab.research.google.com/assets/colab-badge.svg\" alt=\"Open In Colab\"/></a>"
      ]
    },
    {
      "cell_type": "code",
      "execution_count": 1,
      "metadata": {
        "id": "Y5KdBI6ebBGG"
      },
      "outputs": [],
      "source": [
        "from google.colab import files"
      ]
    },
    {
      "cell_type": "code",
      "source": [
        "# Hàm tạo bảng Playfair\n",
        "def generate_playfair_table(key):\n",
        "    key = key.upper().replace(\"J\", \"I\")  # Thay thế J bằng I\n",
        "    table = []\n",
        "    seen = set()\n",
        "    for char in key:\n",
        "        if char not in seen and char.isalpha():\n",
        "            seen.add(char)\n",
        "            table.append(char)\n",
        "\n",
        "    # Thêm các chữ cái còn thiếu vào bảng\n",
        "    for char in range(65, 91):  # Từ A (65) đến Z (90)\n",
        "        letter = chr(char)\n",
        "        if letter not in seen and letter != 'J':\n",
        "            seen.add(letter)\n",
        "            table.append(letter)\n",
        "\n",
        "    return [table[i:i+5] for i in range(0, 25, 5)]  # Chia bảng thành 5x5"
      ],
      "metadata": {
        "id": "MnFs4EPFbtZ2"
      },
      "execution_count": 2,
      "outputs": []
    },
    {
      "cell_type": "code",
      "source": [
        "# Hàm tìm vị trí của ký tự trong bảng Playfair\n",
        "def find_position(char, table):\n",
        "    for i, row in enumerate(table):\n",
        "        if char in row:\n",
        "            return i, row.index(char)\n",
        "    return None"
      ],
      "metadata": {
        "id": "i6uuriEwbxgX"
      },
      "execution_count": 3,
      "outputs": []
    },
    {
      "cell_type": "code",
      "source": [
        "# Hàm mã hóa Playfair\n",
        "def playfair_encrypt(text, key):\n",
        "    table = generate_playfair_table(key)\n",
        "    text = text.upper().replace(\"J\", \"I\")  # Thay J bằng I và chuyển sang chữ hoa\n",
        "    encrypted_text = \"\"\n",
        "\n",
        "    # Xử lý văn bản: tạo cặp chữ cái\n",
        "    i = 0\n",
        "    while i < len(text):\n",
        "        if i + 1 < len(text) and text[i] != text[i + 1]:\n",
        "            # Nếu hai ký tự không giống nhau, mã hóa chúng\n",
        "            encrypted_text += encrypt_pair(text[i], text[i + 1], table)\n",
        "            i += 2\n",
        "        else:\n",
        "            # Nếu hai ký tự giống nhau, thay thế bằng ký tự X\n",
        "            encrypted_text += encrypt_pair(text[i], 'X', table)\n",
        "            i += 1\n",
        "\n",
        "    return encrypted_text"
      ],
      "metadata": {
        "id": "d2SqxzAab0ow"
      },
      "execution_count": 4,
      "outputs": []
    },
    {
      "cell_type": "code",
      "source": [
        "# Hàm mã hóa một cặp ký tự trong bảng Playfair\n",
        "def encrypt_pair(a, b, table):\n",
        "    row_a, col_a = find_position(a, table)\n",
        "    row_b, col_b = find_position(b, table)\n",
        "\n",
        "    if row_a == row_b:\n",
        "        # Cùng hàng, thay thế bằng ký tự ở bên phải\n",
        "        return table[row_a][(col_a + 1) % 5] + table[row_b][(col_b + 1) % 5]\n",
        "    elif col_a == col_b:\n",
        "        # Cùng cột, thay thế bằng ký tự ở phía dưới\n",
        "        return table[(row_a + 1) % 5][col_a] + table[(row_b + 1) % 5][col_b]\n",
        "    else:\n",
        "        # Hình chữ nhật, thay thế bằng ký tự cùng hàng nhưng cùng cột với ký tự kia\n",
        "        return table[row_a][col_b] + table[row_b][col_a]"
      ],
      "metadata": {
        "id": "r2Y0_XJSb7h2"
      },
      "execution_count": 5,
      "outputs": []
    },
    {
      "cell_type": "code",
      "source": [
        "# Hàm đọc file, mã hóa và ghi lại kết quả\n",
        "def encrypt_file(input_file, key):\n",
        "    # Đọc nội dung từ file\n",
        "    with open(input_file, 'r') as file:\n",
        "        text = file.read()\n",
        "\n",
        "    # Mã hóa nội dung\n",
        "    encrypted_text = playfair_encrypt(text, key)\n",
        "\n",
        "    # Ghi kết quả mã hóa vào file mới\n",
        "    output_file = 'encrypted_playfair.txt'\n",
        "    with open(output_file, 'w') as file:\n",
        "        file.write(encrypted_text)\n",
        "\n",
        "    return output_file"
      ],
      "metadata": {
        "id": "QeF6zXaeb8_p"
      },
      "execution_count": 6,
      "outputs": []
    },
    {
      "cell_type": "code",
      "source": [
        "uploaded = files.upload()"
      ],
      "metadata": {
        "colab": {
          "base_uri": "https://localhost:8080/",
          "height": 73
        },
        "id": "TREDDbWocCfm",
        "outputId": "62b47ddf-f684-437c-9b70-ac22fd16bd6e"
      },
      "execution_count": 7,
      "outputs": [
        {
          "output_type": "display_data",
          "data": {
            "text/plain": [
              "<IPython.core.display.HTML object>"
            ],
            "text/html": [
              "\n",
              "     <input type=\"file\" id=\"files-c60e4f1a-bb91-4704-92d3-2d571acdcb9e\" name=\"files[]\" multiple disabled\n",
              "        style=\"border:none\" />\n",
              "     <output id=\"result-c60e4f1a-bb91-4704-92d3-2d571acdcb9e\">\n",
              "      Upload widget is only available when the cell has been executed in the\n",
              "      current browser session. Please rerun this cell to enable.\n",
              "      </output>\n",
              "      <script>// Copyright 2017 Google LLC\n",
              "//\n",
              "// Licensed under the Apache License, Version 2.0 (the \"License\");\n",
              "// you may not use this file except in compliance with the License.\n",
              "// You may obtain a copy of the License at\n",
              "//\n",
              "//      http://www.apache.org/licenses/LICENSE-2.0\n",
              "//\n",
              "// Unless required by applicable law or agreed to in writing, software\n",
              "// distributed under the License is distributed on an \"AS IS\" BASIS,\n",
              "// WITHOUT WARRANTIES OR CONDITIONS OF ANY KIND, either express or implied.\n",
              "// See the License for the specific language governing permissions and\n",
              "// limitations under the License.\n",
              "\n",
              "/**\n",
              " * @fileoverview Helpers for google.colab Python module.\n",
              " */\n",
              "(function(scope) {\n",
              "function span(text, styleAttributes = {}) {\n",
              "  const element = document.createElement('span');\n",
              "  element.textContent = text;\n",
              "  for (const key of Object.keys(styleAttributes)) {\n",
              "    element.style[key] = styleAttributes[key];\n",
              "  }\n",
              "  return element;\n",
              "}\n",
              "\n",
              "// Max number of bytes which will be uploaded at a time.\n",
              "const MAX_PAYLOAD_SIZE = 100 * 1024;\n",
              "\n",
              "function _uploadFiles(inputId, outputId) {\n",
              "  const steps = uploadFilesStep(inputId, outputId);\n",
              "  const outputElement = document.getElementById(outputId);\n",
              "  // Cache steps on the outputElement to make it available for the next call\n",
              "  // to uploadFilesContinue from Python.\n",
              "  outputElement.steps = steps;\n",
              "\n",
              "  return _uploadFilesContinue(outputId);\n",
              "}\n",
              "\n",
              "// This is roughly an async generator (not supported in the browser yet),\n",
              "// where there are multiple asynchronous steps and the Python side is going\n",
              "// to poll for completion of each step.\n",
              "// This uses a Promise to block the python side on completion of each step,\n",
              "// then passes the result of the previous step as the input to the next step.\n",
              "function _uploadFilesContinue(outputId) {\n",
              "  const outputElement = document.getElementById(outputId);\n",
              "  const steps = outputElement.steps;\n",
              "\n",
              "  const next = steps.next(outputElement.lastPromiseValue);\n",
              "  return Promise.resolve(next.value.promise).then((value) => {\n",
              "    // Cache the last promise value to make it available to the next\n",
              "    // step of the generator.\n",
              "    outputElement.lastPromiseValue = value;\n",
              "    return next.value.response;\n",
              "  });\n",
              "}\n",
              "\n",
              "/**\n",
              " * Generator function which is called between each async step of the upload\n",
              " * process.\n",
              " * @param {string} inputId Element ID of the input file picker element.\n",
              " * @param {string} outputId Element ID of the output display.\n",
              " * @return {!Iterable<!Object>} Iterable of next steps.\n",
              " */\n",
              "function* uploadFilesStep(inputId, outputId) {\n",
              "  const inputElement = document.getElementById(inputId);\n",
              "  inputElement.disabled = false;\n",
              "\n",
              "  const outputElement = document.getElementById(outputId);\n",
              "  outputElement.innerHTML = '';\n",
              "\n",
              "  const pickedPromise = new Promise((resolve) => {\n",
              "    inputElement.addEventListener('change', (e) => {\n",
              "      resolve(e.target.files);\n",
              "    });\n",
              "  });\n",
              "\n",
              "  const cancel = document.createElement('button');\n",
              "  inputElement.parentElement.appendChild(cancel);\n",
              "  cancel.textContent = 'Cancel upload';\n",
              "  const cancelPromise = new Promise((resolve) => {\n",
              "    cancel.onclick = () => {\n",
              "      resolve(null);\n",
              "    };\n",
              "  });\n",
              "\n",
              "  // Wait for the user to pick the files.\n",
              "  const files = yield {\n",
              "    promise: Promise.race([pickedPromise, cancelPromise]),\n",
              "    response: {\n",
              "      action: 'starting',\n",
              "    }\n",
              "  };\n",
              "\n",
              "  cancel.remove();\n",
              "\n",
              "  // Disable the input element since further picks are not allowed.\n",
              "  inputElement.disabled = true;\n",
              "\n",
              "  if (!files) {\n",
              "    return {\n",
              "      response: {\n",
              "        action: 'complete',\n",
              "      }\n",
              "    };\n",
              "  }\n",
              "\n",
              "  for (const file of files) {\n",
              "    const li = document.createElement('li');\n",
              "    li.append(span(file.name, {fontWeight: 'bold'}));\n",
              "    li.append(span(\n",
              "        `(${file.type || 'n/a'}) - ${file.size} bytes, ` +\n",
              "        `last modified: ${\n",
              "            file.lastModifiedDate ? file.lastModifiedDate.toLocaleDateString() :\n",
              "                                    'n/a'} - `));\n",
              "    const percent = span('0% done');\n",
              "    li.appendChild(percent);\n",
              "\n",
              "    outputElement.appendChild(li);\n",
              "\n",
              "    const fileDataPromise = new Promise((resolve) => {\n",
              "      const reader = new FileReader();\n",
              "      reader.onload = (e) => {\n",
              "        resolve(e.target.result);\n",
              "      };\n",
              "      reader.readAsArrayBuffer(file);\n",
              "    });\n",
              "    // Wait for the data to be ready.\n",
              "    let fileData = yield {\n",
              "      promise: fileDataPromise,\n",
              "      response: {\n",
              "        action: 'continue',\n",
              "      }\n",
              "    };\n",
              "\n",
              "    // Use a chunked sending to avoid message size limits. See b/62115660.\n",
              "    let position = 0;\n",
              "    do {\n",
              "      const length = Math.min(fileData.byteLength - position, MAX_PAYLOAD_SIZE);\n",
              "      const chunk = new Uint8Array(fileData, position, length);\n",
              "      position += length;\n",
              "\n",
              "      const base64 = btoa(String.fromCharCode.apply(null, chunk));\n",
              "      yield {\n",
              "        response: {\n",
              "          action: 'append',\n",
              "          file: file.name,\n",
              "          data: base64,\n",
              "        },\n",
              "      };\n",
              "\n",
              "      let percentDone = fileData.byteLength === 0 ?\n",
              "          100 :\n",
              "          Math.round((position / fileData.byteLength) * 100);\n",
              "      percent.textContent = `${percentDone}% done`;\n",
              "\n",
              "    } while (position < fileData.byteLength);\n",
              "  }\n",
              "\n",
              "  // All done.\n",
              "  yield {\n",
              "    response: {\n",
              "      action: 'complete',\n",
              "    }\n",
              "  };\n",
              "}\n",
              "\n",
              "scope.google = scope.google || {};\n",
              "scope.google.colab = scope.google.colab || {};\n",
              "scope.google.colab._files = {\n",
              "  _uploadFiles,\n",
              "  _uploadFilesContinue,\n",
              "};\n",
              "})(self);\n",
              "</script> "
            ]
          },
          "metadata": {}
        },
        {
          "output_type": "stream",
          "name": "stdout",
          "text": [
            "Saving test.txt to test.txt\n"
          ]
        }
      ]
    },
    {
      "cell_type": "code",
      "source": [
        "key = input(\"Nhập khóa mã hóa Playfair (không có J, sẽ được thay bằng I): \")\n",
        "\n",
        "# Lấy tên file đã tải lên\n",
        "input_file = next(iter(uploaded))\n",
        "\n",
        "# Mã hóa file và tải file kết quả về\n",
        "output_file = encrypt_file(input_file, key)\n",
        "files.download(output_file)"
      ],
      "metadata": {
        "colab": {
          "base_uri": "https://localhost:8080/",
          "height": 34
        },
        "id": "4iuz3xPqcSF3",
        "outputId": "8ecaf739-972c-4609-e80b-f261c309ccb3"
      },
      "execution_count": 8,
      "outputs": [
        {
          "name": "stdout",
          "output_type": "stream",
          "text": [
            "Nhập khóa mã hóa Playfair (không có J, sẽ được thay bằng I): ijk\n"
          ]
        },
        {
          "output_type": "display_data",
          "data": {
            "text/plain": [
              "<IPython.core.display.Javascript object>"
            ],
            "application/javascript": [
              "\n",
              "    async function download(id, filename, size) {\n",
              "      if (!google.colab.kernel.accessAllowed) {\n",
              "        return;\n",
              "      }\n",
              "      const div = document.createElement('div');\n",
              "      const label = document.createElement('label');\n",
              "      label.textContent = `Downloading \"${filename}\": `;\n",
              "      div.appendChild(label);\n",
              "      const progress = document.createElement('progress');\n",
              "      progress.max = size;\n",
              "      div.appendChild(progress);\n",
              "      document.body.appendChild(div);\n",
              "\n",
              "      const buffers = [];\n",
              "      let downloaded = 0;\n",
              "\n",
              "      const channel = await google.colab.kernel.comms.open(id);\n",
              "      // Send a message to notify the kernel that we're ready.\n",
              "      channel.send({})\n",
              "\n",
              "      for await (const message of channel.messages) {\n",
              "        // Send a message to notify the kernel that we're ready.\n",
              "        channel.send({})\n",
              "        if (message.buffers) {\n",
              "          for (const buffer of message.buffers) {\n",
              "            buffers.push(buffer);\n",
              "            downloaded += buffer.byteLength;\n",
              "            progress.value = downloaded;\n",
              "          }\n",
              "        }\n",
              "      }\n",
              "      const blob = new Blob(buffers, {type: 'application/binary'});\n",
              "      const a = document.createElement('a');\n",
              "      a.href = window.URL.createObjectURL(blob);\n",
              "      a.download = filename;\n",
              "      div.appendChild(a);\n",
              "      a.click();\n",
              "      div.remove();\n",
              "    }\n",
              "  "
            ]
          },
          "metadata": {}
        },
        {
          "output_type": "display_data",
          "data": {
            "text/plain": [
              "<IPython.core.display.Javascript object>"
            ],
            "application/javascript": [
              "download(\"download_8c005e8f-5459-448e-9435-cc49995217bf\", \"encrypted_playfair.txt\", 10)"
            ]
          },
          "metadata": {}
        }
      ]
    }
  ]
}