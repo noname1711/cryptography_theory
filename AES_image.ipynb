{
  "nbformat": 4,
  "nbformat_minor": 0,
  "metadata": {
    "colab": {
      "provenance": [],
      "authorship_tag": "ABX9TyMsrj6vnQrjCrb1G9ZkI5Vl",
      "include_colab_link": true
    },
    "kernelspec": {
      "name": "python3",
      "display_name": "Python 3"
    },
    "language_info": {
      "name": "python"
    }
  },
  "cells": [
    {
      "cell_type": "markdown",
      "metadata": {
        "id": "view-in-github",
        "colab_type": "text"
      },
      "source": [
        "<a href=\"https://colab.research.google.com/github/noname1711/cryptography_theory/blob/main/AES_image.ipynb\" target=\"_parent\"><img src=\"https://colab.research.google.com/assets/colab-badge.svg\" alt=\"Open In Colab\"/></a>"
      ]
    },
    {
      "cell_type": "code",
      "execution_count": 1,
      "metadata": {
        "colab": {
          "base_uri": "https://localhost:8080/"
        },
        "id": "EyOo3l6Puu1f",
        "outputId": "a7781cb9-b47d-4698-fbfc-fff8f6f0538c"
      },
      "outputs": [
        {
          "output_type": "stream",
          "name": "stdout",
          "text": [
            "Requirement already satisfied: pycryptodome in /usr/local/lib/python3.10/dist-packages (3.21.0)\n"
          ]
        }
      ],
      "source": [
        "!pip install pycryptodome"
      ]
    },
    {
      "cell_type": "code",
      "source": [
        "import numpy as np\n",
        "from PIL import Image\n",
        "from Crypto.Cipher import AES\n",
        "from Crypto.Util.Padding import pad, unpad\n",
        "from Crypto.Random import get_random_bytes\n",
        "from google.colab import files"
      ],
      "metadata": {
        "id": "71O_R6IAvYLU"
      },
      "execution_count": 2,
      "outputs": []
    },
    {
      "cell_type": "code",
      "source": [
        "def upload_image():\n",
        "    uploaded = files.upload()\n",
        "    for filename in uploaded.keys():\n",
        "        print(f\"Đã tải lên: {filename}\")\n",
        "        return filename"
      ],
      "metadata": {
        "id": "IFn48bvtvbuo"
      },
      "execution_count": 3,
      "outputs": []
    },
    {
      "cell_type": "code",
      "source": [
        "# Hàm đọc ảnh và chuyển sang numpy array\n",
        "def image_to_array(image_path):\n",
        "    image = Image.open(image_path)\n",
        "    return np.array(image), image.mode"
      ],
      "metadata": {
        "id": "fMXo6wrBvf_6"
      },
      "execution_count": 4,
      "outputs": []
    },
    {
      "cell_type": "code",
      "source": [
        "# Hàm chuyển numpy array sang ảnh\n",
        "def array_to_image(array, mode, output_path):\n",
        "    image = Image.fromarray(array, mode)\n",
        "    image.save(output_path)"
      ],
      "metadata": {
        "id": "pxRtlYtmvjNg"
      },
      "execution_count": 5,
      "outputs": []
    },
    {
      "cell_type": "code",
      "source": [
        "# Mã hóa toàn bộ ảnh\n",
        "def encrypt_image(image_array, key):\n",
        "    cipher = AES.new(key, AES.MODE_ECB)  # Sử dụng ECB để đơn giản hóa\n",
        "    flat_image = image_array.flatten()\n",
        "    encrypted_data = cipher.encrypt(pad(flat_image.tobytes(), AES.block_size))\n",
        "    encrypted_array = np.frombuffer(encrypted_data, dtype=np.uint8)\n",
        "\n",
        "    # Tạo một mảng vuông hợp lệ để lưu thành ảnh\n",
        "    sqrt_size = int(np.ceil(np.sqrt(len(encrypted_array))))  # Kích thước gần nhất cho ma trận vuông\n",
        "    padded_array = np.pad(encrypted_array, (0, sqrt_size**2 - len(encrypted_array)), mode='constant', constant_values=0)\n",
        "    return padded_array.reshape((sqrt_size, sqrt_size)), len(encrypted_array)"
      ],
      "metadata": {
        "id": "wppnbSrSvl6U"
      },
      "execution_count": 19,
      "outputs": []
    },
    {
      "cell_type": "code",
      "source": [
        "# Giải mã toàn bộ ảnh\n",
        "def decrypt_image(encrypted_array, key, original_shape, data_length):\n",
        "    cipher = AES.new(key, AES.MODE_ECB)\n",
        "    flat_encrypted = encrypted_array.flatten()[:data_length]  # Lấy lại dữ liệu thực tế\n",
        "    decrypted_data = unpad(cipher.decrypt(flat_encrypted.tobytes()), AES.block_size)\n",
        "    return np.frombuffer(decrypted_data, dtype=np.uint8).reshape(original_shape)"
      ],
      "metadata": {
        "id": "GD-7i_sNvosx"
      },
      "execution_count": 21,
      "outputs": []
    },
    {
      "cell_type": "code",
      "source": [
        "print(\"1. Mã hóa hình ảnh\")\n",
        "print(\"2. Giải mã hình ảnh\")\n",
        "choice = input(\"Nhập 1 để mã hóa hoặc 2 để giải mã: \")\n",
        "\n",
        "if choice == \"1\":\n",
        "    # Mã hóa hình ảnh\n",
        "    print(\"Hãy tải lên một hình ảnh:\")\n",
        "    image_path = upload_image()\n",
        "    image_array, mode = image_to_array(image_path)\n",
        "    original_shape = image_array.shape\n",
        "\n",
        "    # Tạo khóa AES ngẫu nhiên\n",
        "    key = get_random_bytes(16)\n",
        "    print(f\"Khóa AES (vui lòng lưu lại để giải mã): {key.hex()}\")\n",
        "\n",
        "    # Mã hóa dữ liệu ảnh\n",
        "    encrypted_array, data_length = encrypt_image(image_array, key)\n",
        "\n",
        "    # Lưu ảnh mã hóa\n",
        "    encrypted_image_path = \"encrypted_\" + image_path\n",
        "    array_to_image(encrypted_array, \"L\", encrypted_image_path)  # Lưu dưới dạng grayscale\n",
        "    print(f\"Đã mã hóa hình ảnh và lưu tại: {encrypted_image_path}\")\n",
        "\n",
        "    # Lưu thông tin bổ sung để giải mã\n",
        "    with open(\"metadata.txt\", \"w\") as meta_file:\n",
        "        meta_file.write(f\"{original_shape}\\n{data_length}\")\n",
        "\n",
        "    # Tải xuống file ảnh mã hóa và metadata\n",
        "    files.download(encrypted_image_path)\n",
        "    files.download(\"metadata.txt\")\n",
        "\n",
        "elif choice == \"2\":\n",
        "    # Giải mã hình ảnh\n",
        "    print(\"Hãy tải lên hình ảnh đã mã hóa:\")\n",
        "    encrypted_image_path = upload_image()\n",
        "    encrypted_array, mode = image_to_array(encrypted_image_path)\n",
        "\n",
        "    # Tải metadata\n",
        "    print(\"Hãy tải lên tệp metadata:\")\n",
        "    metadata_path = upload_image()\n",
        "    with open(metadata_path, \"r\") as meta_file:\n",
        "        original_shape = eval(meta_file.readline().strip())  # Đọc hình dạng gốc\n",
        "        data_length = int(meta_file.readline().strip())  # Đọc số lượng dữ liệu thực tế\n",
        "\n",
        "    # Nhập khóa AES\n",
        "    key_hex = input(\"Nhập khóa AES đã sử dụng (dạng hex): \")\n",
        "    key = bytes.fromhex(key_hex)\n",
        "\n",
        "    # Giải mã dữ liệu ảnh\n",
        "    decrypted_array = decrypt_image(encrypted_array, key, original_shape, data_length)\n",
        "\n",
        "    # Lưu lại ảnh đã giải mã\n",
        "    decrypted_image_path = \"decrypted_\" + encrypted_image_path\n",
        "    array_to_image(decrypted_array, mode, decrypted_image_path)\n",
        "    print(f\"Đã giải mã hình ảnh và lưu tại: {decrypted_image_path}\")\n",
        "\n",
        "    # Tải xuống ảnh đã giải mã\n",
        "    files.download(decrypted_image_path)\n",
        "\n",
        "else:\n",
        "    print(\"Lựa chọn không hợp lệ. Hãy chạy lại chương trình.\")\n"
      ],
      "metadata": {
        "colab": {
          "base_uri": "https://localhost:8080/",
          "height": 194
        },
        "id": "WBBPnbAzvsxp",
        "outputId": "29943fa9-ef1c-49eb-d124-5cd9cc1ce36e"
      },
      "execution_count": 23,
      "outputs": [
        {
          "output_type": "stream",
          "name": "stdout",
          "text": [
            "1. Mã hóa hình ảnh\n",
            "2. Giải mã hình ảnh\n",
            "Nhập 1 để mã hóa hoặc 2 để giải mã: 1\n",
            "Hãy tải lên một hình ảnh:\n"
          ]
        },
        {
          "output_type": "display_data",
          "data": {
            "text/plain": [
              "<IPython.core.display.HTML object>"
            ],
            "text/html": [
              "\n",
              "     <input type=\"file\" id=\"files-544dba01-af3a-46b2-9c3b-2bd801ade9ab\" name=\"files[]\" multiple disabled\n",
              "        style=\"border:none\" />\n",
              "     <output id=\"result-544dba01-af3a-46b2-9c3b-2bd801ade9ab\">\n",
              "      Upload widget is only available when the cell has been executed in the\n",
              "      current browser session. Please rerun this cell to enable.\n",
              "      </output>\n",
              "      <script>// Copyright 2017 Google LLC\n",
              "//\n",
              "// Licensed under the Apache License, Version 2.0 (the \"License\");\n",
              "// you may not use this file except in compliance with the License.\n",
              "// You may obtain a copy of the License at\n",
              "//\n",
              "//      http://www.apache.org/licenses/LICENSE-2.0\n",
              "//\n",
              "// Unless required by applicable law or agreed to in writing, software\n",
              "// distributed under the License is distributed on an \"AS IS\" BASIS,\n",
              "// WITHOUT WARRANTIES OR CONDITIONS OF ANY KIND, either express or implied.\n",
              "// See the License for the specific language governing permissions and\n",
              "// limitations under the License.\n",
              "\n",
              "/**\n",
              " * @fileoverview Helpers for google.colab Python module.\n",
              " */\n",
              "(function(scope) {\n",
              "function span(text, styleAttributes = {}) {\n",
              "  const element = document.createElement('span');\n",
              "  element.textContent = text;\n",
              "  for (const key of Object.keys(styleAttributes)) {\n",
              "    element.style[key] = styleAttributes[key];\n",
              "  }\n",
              "  return element;\n",
              "}\n",
              "\n",
              "// Max number of bytes which will be uploaded at a time.\n",
              "const MAX_PAYLOAD_SIZE = 100 * 1024;\n",
              "\n",
              "function _uploadFiles(inputId, outputId) {\n",
              "  const steps = uploadFilesStep(inputId, outputId);\n",
              "  const outputElement = document.getElementById(outputId);\n",
              "  // Cache steps on the outputElement to make it available for the next call\n",
              "  // to uploadFilesContinue from Python.\n",
              "  outputElement.steps = steps;\n",
              "\n",
              "  return _uploadFilesContinue(outputId);\n",
              "}\n",
              "\n",
              "// This is roughly an async generator (not supported in the browser yet),\n",
              "// where there are multiple asynchronous steps and the Python side is going\n",
              "// to poll for completion of each step.\n",
              "// This uses a Promise to block the python side on completion of each step,\n",
              "// then passes the result of the previous step as the input to the next step.\n",
              "function _uploadFilesContinue(outputId) {\n",
              "  const outputElement = document.getElementById(outputId);\n",
              "  const steps = outputElement.steps;\n",
              "\n",
              "  const next = steps.next(outputElement.lastPromiseValue);\n",
              "  return Promise.resolve(next.value.promise).then((value) => {\n",
              "    // Cache the last promise value to make it available to the next\n",
              "    // step of the generator.\n",
              "    outputElement.lastPromiseValue = value;\n",
              "    return next.value.response;\n",
              "  });\n",
              "}\n",
              "\n",
              "/**\n",
              " * Generator function which is called between each async step of the upload\n",
              " * process.\n",
              " * @param {string} inputId Element ID of the input file picker element.\n",
              " * @param {string} outputId Element ID of the output display.\n",
              " * @return {!Iterable<!Object>} Iterable of next steps.\n",
              " */\n",
              "function* uploadFilesStep(inputId, outputId) {\n",
              "  const inputElement = document.getElementById(inputId);\n",
              "  inputElement.disabled = false;\n",
              "\n",
              "  const outputElement = document.getElementById(outputId);\n",
              "  outputElement.innerHTML = '';\n",
              "\n",
              "  const pickedPromise = new Promise((resolve) => {\n",
              "    inputElement.addEventListener('change', (e) => {\n",
              "      resolve(e.target.files);\n",
              "    });\n",
              "  });\n",
              "\n",
              "  const cancel = document.createElement('button');\n",
              "  inputElement.parentElement.appendChild(cancel);\n",
              "  cancel.textContent = 'Cancel upload';\n",
              "  const cancelPromise = new Promise((resolve) => {\n",
              "    cancel.onclick = () => {\n",
              "      resolve(null);\n",
              "    };\n",
              "  });\n",
              "\n",
              "  // Wait for the user to pick the files.\n",
              "  const files = yield {\n",
              "    promise: Promise.race([pickedPromise, cancelPromise]),\n",
              "    response: {\n",
              "      action: 'starting',\n",
              "    }\n",
              "  };\n",
              "\n",
              "  cancel.remove();\n",
              "\n",
              "  // Disable the input element since further picks are not allowed.\n",
              "  inputElement.disabled = true;\n",
              "\n",
              "  if (!files) {\n",
              "    return {\n",
              "      response: {\n",
              "        action: 'complete',\n",
              "      }\n",
              "    };\n",
              "  }\n",
              "\n",
              "  for (const file of files) {\n",
              "    const li = document.createElement('li');\n",
              "    li.append(span(file.name, {fontWeight: 'bold'}));\n",
              "    li.append(span(\n",
              "        `(${file.type || 'n/a'}) - ${file.size} bytes, ` +\n",
              "        `last modified: ${\n",
              "            file.lastModifiedDate ? file.lastModifiedDate.toLocaleDateString() :\n",
              "                                    'n/a'} - `));\n",
              "    const percent = span('0% done');\n",
              "    li.appendChild(percent);\n",
              "\n",
              "    outputElement.appendChild(li);\n",
              "\n",
              "    const fileDataPromise = new Promise((resolve) => {\n",
              "      const reader = new FileReader();\n",
              "      reader.onload = (e) => {\n",
              "        resolve(e.target.result);\n",
              "      };\n",
              "      reader.readAsArrayBuffer(file);\n",
              "    });\n",
              "    // Wait for the data to be ready.\n",
              "    let fileData = yield {\n",
              "      promise: fileDataPromise,\n",
              "      response: {\n",
              "        action: 'continue',\n",
              "      }\n",
              "    };\n",
              "\n",
              "    // Use a chunked sending to avoid message size limits. See b/62115660.\n",
              "    let position = 0;\n",
              "    do {\n",
              "      const length = Math.min(fileData.byteLength - position, MAX_PAYLOAD_SIZE);\n",
              "      const chunk = new Uint8Array(fileData, position, length);\n",
              "      position += length;\n",
              "\n",
              "      const base64 = btoa(String.fromCharCode.apply(null, chunk));\n",
              "      yield {\n",
              "        response: {\n",
              "          action: 'append',\n",
              "          file: file.name,\n",
              "          data: base64,\n",
              "        },\n",
              "      };\n",
              "\n",
              "      let percentDone = fileData.byteLength === 0 ?\n",
              "          100 :\n",
              "          Math.round((position / fileData.byteLength) * 100);\n",
              "      percent.textContent = `${percentDone}% done`;\n",
              "\n",
              "    } while (position < fileData.byteLength);\n",
              "  }\n",
              "\n",
              "  // All done.\n",
              "  yield {\n",
              "    response: {\n",
              "      action: 'complete',\n",
              "    }\n",
              "  };\n",
              "}\n",
              "\n",
              "scope.google = scope.google || {};\n",
              "scope.google.colab = scope.google.colab || {};\n",
              "scope.google.colab._files = {\n",
              "  _uploadFiles,\n",
              "  _uploadFilesContinue,\n",
              "};\n",
              "})(self);\n",
              "</script> "
            ]
          },
          "metadata": {}
        },
        {
          "output_type": "stream",
          "name": "stdout",
          "text": [
            "Saving logo-bach-khoa-ha-noi.jpg to logo-bach-khoa-ha-noi (6).jpg\n",
            "Đã tải lên: logo-bach-khoa-ha-noi (6).jpg\n",
            "Khóa AES (vui lòng lưu lại để giải mã): 75fe0e2fe39cf3aeaabe8ecdd74f2cc7\n",
            "Đã mã hóa hình ảnh và lưu tại: encrypted_logo-bach-khoa-ha-noi (6).jpg\n"
          ]
        },
        {
          "output_type": "display_data",
          "data": {
            "text/plain": [
              "<IPython.core.display.Javascript object>"
            ],
            "application/javascript": [
              "\n",
              "    async function download(id, filename, size) {\n",
              "      if (!google.colab.kernel.accessAllowed) {\n",
              "        return;\n",
              "      }\n",
              "      const div = document.createElement('div');\n",
              "      const label = document.createElement('label');\n",
              "      label.textContent = `Downloading \"${filename}\": `;\n",
              "      div.appendChild(label);\n",
              "      const progress = document.createElement('progress');\n",
              "      progress.max = size;\n",
              "      div.appendChild(progress);\n",
              "      document.body.appendChild(div);\n",
              "\n",
              "      const buffers = [];\n",
              "      let downloaded = 0;\n",
              "\n",
              "      const channel = await google.colab.kernel.comms.open(id);\n",
              "      // Send a message to notify the kernel that we're ready.\n",
              "      channel.send({})\n",
              "\n",
              "      for await (const message of channel.messages) {\n",
              "        // Send a message to notify the kernel that we're ready.\n",
              "        channel.send({})\n",
              "        if (message.buffers) {\n",
              "          for (const buffer of message.buffers) {\n",
              "            buffers.push(buffer);\n",
              "            downloaded += buffer.byteLength;\n",
              "            progress.value = downloaded;\n",
              "          }\n",
              "        }\n",
              "      }\n",
              "      const blob = new Blob(buffers, {type: 'application/binary'});\n",
              "      const a = document.createElement('a');\n",
              "      a.href = window.URL.createObjectURL(blob);\n",
              "      a.download = filename;\n",
              "      div.appendChild(a);\n",
              "      a.click();\n",
              "      div.remove();\n",
              "    }\n",
              "  "
            ]
          },
          "metadata": {}
        },
        {
          "output_type": "display_data",
          "data": {
            "text/plain": [
              "<IPython.core.display.Javascript object>"
            ],
            "application/javascript": [
              "download(\"download_191aacfe-9bea-4b4d-b750-f52000239f35\", \"encrypted_logo-bach-khoa-ha-noi (6).jpg\", 1198824)"
            ]
          },
          "metadata": {}
        },
        {
          "output_type": "display_data",
          "data": {
            "text/plain": [
              "<IPython.core.display.Javascript object>"
            ],
            "application/javascript": [
              "\n",
              "    async function download(id, filename, size) {\n",
              "      if (!google.colab.kernel.accessAllowed) {\n",
              "        return;\n",
              "      }\n",
              "      const div = document.createElement('div');\n",
              "      const label = document.createElement('label');\n",
              "      label.textContent = `Downloading \"${filename}\": `;\n",
              "      div.appendChild(label);\n",
              "      const progress = document.createElement('progress');\n",
              "      progress.max = size;\n",
              "      div.appendChild(progress);\n",
              "      document.body.appendChild(div);\n",
              "\n",
              "      const buffers = [];\n",
              "      let downloaded = 0;\n",
              "\n",
              "      const channel = await google.colab.kernel.comms.open(id);\n",
              "      // Send a message to notify the kernel that we're ready.\n",
              "      channel.send({})\n",
              "\n",
              "      for await (const message of channel.messages) {\n",
              "        // Send a message to notify the kernel that we're ready.\n",
              "        channel.send({})\n",
              "        if (message.buffers) {\n",
              "          for (const buffer of message.buffers) {\n",
              "            buffers.push(buffer);\n",
              "            downloaded += buffer.byteLength;\n",
              "            progress.value = downloaded;\n",
              "          }\n",
              "        }\n",
              "      }\n",
              "      const blob = new Blob(buffers, {type: 'application/binary'});\n",
              "      const a = document.createElement('a');\n",
              "      a.href = window.URL.createObjectURL(blob);\n",
              "      a.download = filename;\n",
              "      div.appendChild(a);\n",
              "      a.click();\n",
              "      div.remove();\n",
              "    }\n",
              "  "
            ]
          },
          "metadata": {}
        },
        {
          "output_type": "display_data",
          "data": {
            "text/plain": [
              "<IPython.core.display.Javascript object>"
            ],
            "application/javascript": [
              "download(\"download_c3760636-7bfd-43a5-a1e8-f51825481a81\", \"metadata.txt\", 22)"
            ]
          },
          "metadata": {}
        }
      ]
    }
  ]
}