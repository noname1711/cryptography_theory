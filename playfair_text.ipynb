{
  "nbformat": 4,
  "nbformat_minor": 0,
  "metadata": {
    "colab": {
      "provenance": [],
      "authorship_tag": "ABX9TyPLHo/lyvE29RbwL/BbrgPy",
      "include_colab_link": true
    },
    "kernelspec": {
      "name": "python3",
      "display_name": "Python 3"
    },
    "language_info": {
      "name": "python"
    }
  },
  "cells": [
    {
      "cell_type": "markdown",
      "metadata": {
        "id": "view-in-github",
        "colab_type": "text"
      },
      "source": [
        "<a href=\"https://colab.research.google.com/github/noname1711/cryptography_theory/blob/main/playfair_text.ipynb\" target=\"_parent\"><img src=\"https://colab.research.google.com/assets/colab-badge.svg\" alt=\"Open In Colab\"/></a>"
      ]
    },
    {
      "cell_type": "code",
      "execution_count": 1,
      "metadata": {
        "id": "Y5KdBI6ebBGG"
      },
      "outputs": [],
      "source": [
        "import numpy as np\n",
        "from google.colab import files\n",
        "from collections import deque"
      ]
    },
    {
      "cell_type": "code",
      "source": [
        "# Hàm tạo bảng Playfair từ khóa\n",
        "def generate_playfair_table(key):\n",
        "    table = []\n",
        "    alphabet = 'ABCDEFGHIKLMNOPQRSTUVWXYZ'  # Loại bỏ 'J' vì trong Playfair 'J' được coi là 'I'\n",
        "    key = ''.join(dict.fromkeys(key))  # Loại bỏ ký tự trùng lặp trong khóa\n",
        "    key = key.upper()\n",
        "\n",
        "    # Thêm các ký tự trong khóa vào bảng\n",
        "    for char in key:\n",
        "        if char not in table and char != 'J':  # Loại bỏ 'J'\n",
        "            table.append(char)\n",
        "\n",
        "    # Thêm các ký tự còn lại trong bảng chữ cái\n",
        "    for char in alphabet:\n",
        "        if char not in table:\n",
        "            table.append(char)\n",
        "\n",
        "    # Chia bảng thành 5x5\n",
        "    table = np.array(table).reshape(5, 5)\n",
        "    return table"
      ],
      "metadata": {
        "id": "MnFs4EPFbtZ2"
      },
      "execution_count": 2,
      "outputs": []
    },
    {
      "cell_type": "code",
      "source": [
        "# Hàm chuẩn hóa văn bản: loại bỏ dấu cách và thay 'J' bằng 'I'\n",
        "def preprocess_text(text):\n",
        "    text = text.replace(\" \", \"\").upper()\n",
        "    text = text.replace(\"J\", \"I\")  # Thay 'J' bằng 'I'\n",
        "    if len(text) % 2 != 0:  # Nếu số ký tự lẻ, thêm 'X' vào cuối\n",
        "        text += 'X'\n",
        "    return text"
      ],
      "metadata": {
        "id": "i6uuriEwbxgX"
      },
      "execution_count": 3,
      "outputs": []
    },
    {
      "cell_type": "code",
      "source": [
        "# Hàm tạo các cặp ký tự từ văn bản\n",
        "def generate_pairs(text):\n",
        "    pairs = deque()\n",
        "    for i in range(0, len(text), 2):\n",
        "        pairs.append(text[i:i+2])\n",
        "    return pairs"
      ],
      "metadata": {
        "id": "d2SqxzAab0ow"
      },
      "execution_count": 4,
      "outputs": []
    },
    {
      "cell_type": "code",
      "source": [
        "# Hàm tìm vị trí của ký tự trong bảng\n",
        "def find_position(char, table):\n",
        "    for i, row in enumerate(table):\n",
        "        for j, col in enumerate(row):\n",
        "            if col == char:\n",
        "                return i, j\n",
        "    return None"
      ],
      "metadata": {
        "id": "r2Y0_XJSb7h2"
      },
      "execution_count": 5,
      "outputs": []
    },
    {
      "cell_type": "code",
      "source": [
        "# Hàm xử lý một cặp ký tự trong bảng Playfair\n",
        "def process_pair(pair, table, mode):\n",
        "    row1, col1 = find_position(pair[0], table)\n",
        "    row2, col2 = find_position(pair[1], table)\n",
        "\n",
        "    if row1 == row2:  # Cùng hàng\n",
        "        if mode == '1':  # Mã hóa: dịch chuyển sang phải\n",
        "            col1 = (col1 + 1) % 5\n",
        "            col2 = (col2 + 1) % 5\n",
        "        elif mode == '2':  # Giải mã: dịch chuyển sang trái\n",
        "            col1 = (col1 - 1) % 5\n",
        "            col2 = (col2 - 1) % 5\n",
        "    elif col1 == col2:  # Cùng cột\n",
        "        if mode == '1':  # Mã hóa: dịch chuyển xuống dưới\n",
        "            row1 = (row1 + 1) % 5\n",
        "            row2 = (row2 + 1) % 5\n",
        "        elif mode == '2':  # Giải mã: dịch chuyển lên trên\n",
        "            row1 = (row1 - 1) % 5\n",
        "            row2 = (row2 - 1) % 5\n",
        "    else:  # Khác hàng, khác cột (vị trí vuông góc)\n",
        "        col1, col2 = col2, col1  # Hoán đổi cột\n",
        "\n",
        "    return table[row1][col1] + table[row2][col2]  # Trả về cặp ký tự đã mã hóa hoặc giải mã"
      ],
      "metadata": {
        "id": "QeF6zXaeb8_p"
      },
      "execution_count": 6,
      "outputs": []
    },
    {
      "cell_type": "code",
      "source": [
        "# Hàm mã hóa hoặc giải mã Playfair\n",
        "def playfair(text, key, mode):\n",
        "    table = generate_playfair_table(key)  # Tạo bảng Playfair từ khóa\n",
        "    text = preprocess_text(text)  # Chuẩn hóa văn bản\n",
        "    processed_text = \"\"\n",
        "\n",
        "    pairs = generate_pairs(text)  # Tạo các cặp ký tự từ văn bản\n",
        "    for pair in pairs:\n",
        "        processed_text += process_pair(pair, table, mode)\n",
        "\n",
        "    return processed_text"
      ],
      "metadata": {
        "id": "0tx4IlY4BJb4"
      },
      "execution_count": 7,
      "outputs": []
    },
    {
      "cell_type": "code",
      "source": [
        "def process_file(input_file, key, mode):\n",
        "    text = input_file.decode(\"utf-8\").strip().replace(\" \", \"\").upper()\n",
        "    result = playfair(text, key, mode)  # Gọi hàm playfair để mã hóa hoặc giải mã\n",
        "    output_file_name = \"playfair_\" + (\"encrypted\" if mode == '1' else \"decrypted\") + \".txt\"\n",
        "\n",
        "    with open(output_file_name, 'w') as file:\n",
        "        file.write(result)\n",
        "\n",
        "    return output_file_name"
      ],
      "metadata": {
        "id": "ycyjPTPiBNYj"
      },
      "execution_count": 8,
      "outputs": []
    },
    {
      "cell_type": "code",
      "source": [
        "key = input(\"Nhập khóa Playfair: \")\n",
        "mode = input(\"Chọn chế độ (1: Mã hóa, 2: Giải mã): \")\n",
        "# Tải file lên và nhập khóa\n",
        "uploaded = files.upload()\n",
        "# Xử lý các file đã tải lên\n",
        "for fn in uploaded.keys():\n",
        "    processed_file = process_file(uploaded[fn], key, mode)\n",
        "    files.download(processed_file)\n",
        "    print(f\"Đã xử lý file {fn}.\")"
      ],
      "metadata": {
        "colab": {
          "base_uri": "https://localhost:8080/",
          "height": 125
        },
        "id": "SY3aJsmRBP28",
        "outputId": "b2e5fddf-b149-41d1-fb79-0346a19cc7b5"
      },
      "execution_count": 12,
      "outputs": [
        {
          "name": "stdout",
          "output_type": "stream",
          "text": [
            "Nhập khóa Playfair: Hung\n",
            "Chọn chế độ (1: Mã hóa, 2: Giải mã): 1\n"
          ]
        },
        {
          "output_type": "display_data",
          "data": {
            "text/plain": [
              "<IPython.core.display.HTML object>"
            ],
            "text/html": [
              "\n",
              "     <input type=\"file\" id=\"files-fd9ed5a6-4ba7-4adc-baac-5804ee04c784\" name=\"files[]\" multiple disabled\n",
              "        style=\"border:none\" />\n",
              "     <output id=\"result-fd9ed5a6-4ba7-4adc-baac-5804ee04c784\">\n",
              "      Upload widget is only available when the cell has been executed in the\n",
              "      current browser session. Please rerun this cell to enable.\n",
              "      </output>\n",
              "      <script>// Copyright 2017 Google LLC\n",
              "//\n",
              "// Licensed under the Apache License, Version 2.0 (the \"License\");\n",
              "// you may not use this file except in compliance with the License.\n",
              "// You may obtain a copy of the License at\n",
              "//\n",
              "//      http://www.apache.org/licenses/LICENSE-2.0\n",
              "//\n",
              "// Unless required by applicable law or agreed to in writing, software\n",
              "// distributed under the License is distributed on an \"AS IS\" BASIS,\n",
              "// WITHOUT WARRANTIES OR CONDITIONS OF ANY KIND, either express or implied.\n",
              "// See the License for the specific language governing permissions and\n",
              "// limitations under the License.\n",
              "\n",
              "/**\n",
              " * @fileoverview Helpers for google.colab Python module.\n",
              " */\n",
              "(function(scope) {\n",
              "function span(text, styleAttributes = {}) {\n",
              "  const element = document.createElement('span');\n",
              "  element.textContent = text;\n",
              "  for (const key of Object.keys(styleAttributes)) {\n",
              "    element.style[key] = styleAttributes[key];\n",
              "  }\n",
              "  return element;\n",
              "}\n",
              "\n",
              "// Max number of bytes which will be uploaded at a time.\n",
              "const MAX_PAYLOAD_SIZE = 100 * 1024;\n",
              "\n",
              "function _uploadFiles(inputId, outputId) {\n",
              "  const steps = uploadFilesStep(inputId, outputId);\n",
              "  const outputElement = document.getElementById(outputId);\n",
              "  // Cache steps on the outputElement to make it available for the next call\n",
              "  // to uploadFilesContinue from Python.\n",
              "  outputElement.steps = steps;\n",
              "\n",
              "  return _uploadFilesContinue(outputId);\n",
              "}\n",
              "\n",
              "// This is roughly an async generator (not supported in the browser yet),\n",
              "// where there are multiple asynchronous steps and the Python side is going\n",
              "// to poll for completion of each step.\n",
              "// This uses a Promise to block the python side on completion of each step,\n",
              "// then passes the result of the previous step as the input to the next step.\n",
              "function _uploadFilesContinue(outputId) {\n",
              "  const outputElement = document.getElementById(outputId);\n",
              "  const steps = outputElement.steps;\n",
              "\n",
              "  const next = steps.next(outputElement.lastPromiseValue);\n",
              "  return Promise.resolve(next.value.promise).then((value) => {\n",
              "    // Cache the last promise value to make it available to the next\n",
              "    // step of the generator.\n",
              "    outputElement.lastPromiseValue = value;\n",
              "    return next.value.response;\n",
              "  });\n",
              "}\n",
              "\n",
              "/**\n",
              " * Generator function which is called between each async step of the upload\n",
              " * process.\n",
              " * @param {string} inputId Element ID of the input file picker element.\n",
              " * @param {string} outputId Element ID of the output display.\n",
              " * @return {!Iterable<!Object>} Iterable of next steps.\n",
              " */\n",
              "function* uploadFilesStep(inputId, outputId) {\n",
              "  const inputElement = document.getElementById(inputId);\n",
              "  inputElement.disabled = false;\n",
              "\n",
              "  const outputElement = document.getElementById(outputId);\n",
              "  outputElement.innerHTML = '';\n",
              "\n",
              "  const pickedPromise = new Promise((resolve) => {\n",
              "    inputElement.addEventListener('change', (e) => {\n",
              "      resolve(e.target.files);\n",
              "    });\n",
              "  });\n",
              "\n",
              "  const cancel = document.createElement('button');\n",
              "  inputElement.parentElement.appendChild(cancel);\n",
              "  cancel.textContent = 'Cancel upload';\n",
              "  const cancelPromise = new Promise((resolve) => {\n",
              "    cancel.onclick = () => {\n",
              "      resolve(null);\n",
              "    };\n",
              "  });\n",
              "\n",
              "  // Wait for the user to pick the files.\n",
              "  const files = yield {\n",
              "    promise: Promise.race([pickedPromise, cancelPromise]),\n",
              "    response: {\n",
              "      action: 'starting',\n",
              "    }\n",
              "  };\n",
              "\n",
              "  cancel.remove();\n",
              "\n",
              "  // Disable the input element since further picks are not allowed.\n",
              "  inputElement.disabled = true;\n",
              "\n",
              "  if (!files) {\n",
              "    return {\n",
              "      response: {\n",
              "        action: 'complete',\n",
              "      }\n",
              "    };\n",
              "  }\n",
              "\n",
              "  for (const file of files) {\n",
              "    const li = document.createElement('li');\n",
              "    li.append(span(file.name, {fontWeight: 'bold'}));\n",
              "    li.append(span(\n",
              "        `(${file.type || 'n/a'}) - ${file.size} bytes, ` +\n",
              "        `last modified: ${\n",
              "            file.lastModifiedDate ? file.lastModifiedDate.toLocaleDateString() :\n",
              "                                    'n/a'} - `));\n",
              "    const percent = span('0% done');\n",
              "    li.appendChild(percent);\n",
              "\n",
              "    outputElement.appendChild(li);\n",
              "\n",
              "    const fileDataPromise = new Promise((resolve) => {\n",
              "      const reader = new FileReader();\n",
              "      reader.onload = (e) => {\n",
              "        resolve(e.target.result);\n",
              "      };\n",
              "      reader.readAsArrayBuffer(file);\n",
              "    });\n",
              "    // Wait for the data to be ready.\n",
              "    let fileData = yield {\n",
              "      promise: fileDataPromise,\n",
              "      response: {\n",
              "        action: 'continue',\n",
              "      }\n",
              "    };\n",
              "\n",
              "    // Use a chunked sending to avoid message size limits. See b/62115660.\n",
              "    let position = 0;\n",
              "    do {\n",
              "      const length = Math.min(fileData.byteLength - position, MAX_PAYLOAD_SIZE);\n",
              "      const chunk = new Uint8Array(fileData, position, length);\n",
              "      position += length;\n",
              "\n",
              "      const base64 = btoa(String.fromCharCode.apply(null, chunk));\n",
              "      yield {\n",
              "        response: {\n",
              "          action: 'append',\n",
              "          file: file.name,\n",
              "          data: base64,\n",
              "        },\n",
              "      };\n",
              "\n",
              "      let percentDone = fileData.byteLength === 0 ?\n",
              "          100 :\n",
              "          Math.round((position / fileData.byteLength) * 100);\n",
              "      percent.textContent = `${percentDone}% done`;\n",
              "\n",
              "    } while (position < fileData.byteLength);\n",
              "  }\n",
              "\n",
              "  // All done.\n",
              "  yield {\n",
              "    response: {\n",
              "      action: 'complete',\n",
              "    }\n",
              "  };\n",
              "}\n",
              "\n",
              "scope.google = scope.google || {};\n",
              "scope.google.colab = scope.google.colab || {};\n",
              "scope.google.colab._files = {\n",
              "  _uploadFiles,\n",
              "  _uploadFilesContinue,\n",
              "};\n",
              "})(self);\n",
              "</script> "
            ]
          },
          "metadata": {}
        },
        {
          "output_type": "stream",
          "name": "stdout",
          "text": [
            "Saving test.txt to test (2).txt\n"
          ]
        },
        {
          "output_type": "display_data",
          "data": {
            "text/plain": [
              "<IPython.core.display.Javascript object>"
            ],
            "application/javascript": [
              "\n",
              "    async function download(id, filename, size) {\n",
              "      if (!google.colab.kernel.accessAllowed) {\n",
              "        return;\n",
              "      }\n",
              "      const div = document.createElement('div');\n",
              "      const label = document.createElement('label');\n",
              "      label.textContent = `Downloading \"${filename}\": `;\n",
              "      div.appendChild(label);\n",
              "      const progress = document.createElement('progress');\n",
              "      progress.max = size;\n",
              "      div.appendChild(progress);\n",
              "      document.body.appendChild(div);\n",
              "\n",
              "      const buffers = [];\n",
              "      let downloaded = 0;\n",
              "\n",
              "      const channel = await google.colab.kernel.comms.open(id);\n",
              "      // Send a message to notify the kernel that we're ready.\n",
              "      channel.send({})\n",
              "\n",
              "      for await (const message of channel.messages) {\n",
              "        // Send a message to notify the kernel that we're ready.\n",
              "        channel.send({})\n",
              "        if (message.buffers) {\n",
              "          for (const buffer of message.buffers) {\n",
              "            buffers.push(buffer);\n",
              "            downloaded += buffer.byteLength;\n",
              "            progress.value = downloaded;\n",
              "          }\n",
              "        }\n",
              "      }\n",
              "      const blob = new Blob(buffers, {type: 'application/binary'});\n",
              "      const a = document.createElement('a');\n",
              "      a.href = window.URL.createObjectURL(blob);\n",
              "      a.download = filename;\n",
              "      div.appendChild(a);\n",
              "      a.click();\n",
              "      div.remove();\n",
              "    }\n",
              "  "
            ]
          },
          "metadata": {}
        },
        {
          "output_type": "display_data",
          "data": {
            "text/plain": [
              "<IPython.core.display.Javascript object>"
            ],
            "application/javascript": [
              "download(\"download_10cda1e9-f996-4d54-8393-f1677c330ced\", \"playfair_encrypted.txt\", 10)"
            ]
          },
          "metadata": {}
        },
        {
          "output_type": "stream",
          "name": "stdout",
          "text": [
            "Đã xử lý file test (2).txt.\n"
          ]
        }
      ]
    }
  ]
}