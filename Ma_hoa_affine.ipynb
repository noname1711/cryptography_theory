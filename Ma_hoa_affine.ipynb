{
  "nbformat": 4,
  "nbformat_minor": 0,
  "metadata": {
    "colab": {
      "provenance": [],
      "authorship_tag": "ABX9TyOJCOzHLQhjpoD2Yb3eA+OW",
      "include_colab_link": true
    },
    "kernelspec": {
      "name": "python3",
      "display_name": "Python 3"
    },
    "language_info": {
      "name": "python"
    }
  },
  "cells": [
    {
      "cell_type": "markdown",
      "metadata": {
        "id": "view-in-github",
        "colab_type": "text"
      },
      "source": [
        "<a href=\"https://colab.research.google.com/github/noname1711/cryptography_theory/blob/main/Ma_hoa_affine.ipynb\" target=\"_parent\"><img src=\"https://colab.research.google.com/assets/colab-badge.svg\" alt=\"Open In Colab\"/></a>"
      ]
    },
    {
      "cell_type": "code",
      "execution_count": 1,
      "metadata": {
        "id": "BI0VsuKEj5y_"
      },
      "outputs": [],
      "source": [
        "#nghịch đảo của số a\n",
        "def mod_inverse(a, m):\n",
        "    for x in range(1, m):\n",
        "        if (a * x) % m == 1:\n",
        "            return x\n",
        "    return None"
      ]
    },
    {
      "cell_type": "code",
      "source": [
        "# Hàm mã hóa Affine\n",
        "def affine_encrypt(text, a, b):\n",
        "    result = \"\"\n",
        "    for char in text:\n",
        "        if char.isalpha():\n",
        "            # Chuyển ký tự thành số (a=0, b=1...)\n",
        "            x = ord(char.lower()) - ord('a')\n",
        "            encrypted_char = (a * x + b) % 26\n",
        "            # Chuyển số thành ký tự\n",
        "            result += chr(encrypted_char + ord('a'))\n",
        "        else:\n",
        "            result += char\n",
        "    return result"
      ],
      "metadata": {
        "id": "A-rp1mTPnAT-"
      },
      "execution_count": 2,
      "outputs": []
    },
    {
      "cell_type": "code",
      "source": [
        "# Hàm giải mã Affine\n",
        "def affine_decrypt(cipher, a, b):\n",
        "    result = \"\"\n",
        "    a_inv = mod_inverse(a, 26)   #nghịch đảo lại công thức\n",
        "    if a_inv is None:\n",
        "        raise ValueError(\"error\")\n",
        "\n",
        "    for char in cipher:\n",
        "        if char.isalpha():\n",
        "            y = ord(char.lower()) - ord('a')\n",
        "            decrypted_char = (a_inv * (y - b)) % 26\n",
        "            result += chr(decrypted_char + ord('a'))\n",
        "        else:\n",
        "            result += char\n",
        "    return result"
      ],
      "metadata": {
        "id": "cPu6tsOCnC9G"
      },
      "execution_count": 3,
      "outputs": []
    },
    {
      "cell_type": "code",
      "source": [
        "a = 5  # Giá trị a phải là số nguyên tố cùng nhau với 26\n",
        "b = 3  # Giá trị b số nguyên bất kỳ\n",
        "plaintext = \"abcde\"\n",
        "ciphertext = affine_encrypt(plaintext, a, b)\n",
        "print(\"Chuỗi mã hóa:\", ciphertext)"
      ],
      "metadata": {
        "colab": {
          "base_uri": "https://localhost:8080/"
        },
        "id": "N4oWlJnRnQhw",
        "outputId": "e0408f87-1502-4d89-b442-f8555cd5df04"
      },
      "execution_count": 4,
      "outputs": [
        {
          "output_type": "stream",
          "name": "stdout",
          "text": [
            "Chuỗi mã hóa: dinsx\n"
          ]
        }
      ]
    },
    {
      "cell_type": "code",
      "source": [
        "plaintext = \"dinsx\"\n",
        "decrypted_text = affine_decrypt(ciphertext, a, b)\n",
        "print(\"Chuỗi giải mã:\", decrypted_text)"
      ],
      "metadata": {
        "colab": {
          "base_uri": "https://localhost:8080/"
        },
        "id": "imdqZX-hnTrQ",
        "outputId": "5b313e7c-2f2f-494c-950f-ae54b19a8c5e"
      },
      "execution_count": 5,
      "outputs": [
        {
          "output_type": "stream",
          "name": "stdout",
          "text": [
            "Chuỗi giải mã: abcde\n"
          ]
        }
      ]
    }
  ]
}