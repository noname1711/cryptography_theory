{
  "nbformat": 4,
  "nbformat_minor": 0,
  "metadata": {
    "colab": {
      "provenance": [],
      "authorship_tag": "ABX9TyN7T03H83z8iDA11CmW07vZ",
      "include_colab_link": true
    },
    "kernelspec": {
      "name": "python3",
      "display_name": "Python 3"
    },
    "language_info": {
      "name": "python"
    }
  },
  "cells": [
    {
      "cell_type": "markdown",
      "metadata": {
        "id": "view-in-github",
        "colab_type": "text"
      },
      "source": [
        "<a href=\"https://colab.research.google.com/github/noname1711/cryptography_theory/blob/main/crypto_demo.ipynb\" target=\"_parent\"><img src=\"https://colab.research.google.com/assets/colab-badge.svg\" alt=\"Open In Colab\"/></a>"
      ]
    },
    {
      "cell_type": "code",
      "execution_count": null,
      "metadata": {
        "colab": {
          "base_uri": "https://localhost:8080/"
        },
        "id": "Am8yo6c6YSZ0",
        "outputId": "36b3b462-dfc7-43dd-94e4-9edc7e45b0ea"
      },
      "outputs": [
        {
          "output_type": "stream",
          "name": "stdout",
          "text": [
            "Hello\n"
          ]
        }
      ],
      "source": [
        "plaintext = \"Hello\"\n",
        "print(plaintext)"
      ]
    },
    {
      "cell_type": "code",
      "source": [
        "for c in plaintext :\n",
        "  print(c, \"->\", ord(c))  #trả về mà unicode của kí tự"
      ],
      "metadata": {
        "colab": {
          "base_uri": "https://localhost:8080/"
        },
        "id": "pxC-uG-QZJpk",
        "outputId": "39020744-b092-4dcd-dc39-8610044afd22"
      },
      "execution_count": null,
      "outputs": [
        {
          "output_type": "stream",
          "name": "stdout",
          "text": [
            "H -> 72\n",
            "e -> 101\n",
            "l -> 108\n",
            "l -> 108\n",
            "o -> 111\n"
          ]
        }
      ]
    },
    {
      "cell_type": "code",
      "source": [
        "# encryption process\n",
        "key = 3\n",
        "ciphertext = \"\"\n",
        "for pc in plaintext:\n",
        "  if pc.islower():\n",
        "    cc = (ord(pc)-97)%26+ key\n",
        "    print(chr(cc + 97))     #chuyen tu unicode sang ki tu thuong\n",
        "  elif pc.isupper():     #isupper tra ve true neu la chu hoa\n",
        "    cc = (ord(pc)-65)%26 + key\n",
        "    print(chr(cc + 65))"
      ],
      "metadata": {
        "colab": {
          "base_uri": "https://localhost:8080/"
        },
        "id": "bZkesRMVZzEs",
        "outputId": "e2f33139-4d80-4084-edbf-9972e93b686b"
      },
      "execution_count": null,
      "outputs": [
        {
          "output_type": "stream",
          "name": "stdout",
          "text": [
            "K\n",
            "h\n",
            "o\n",
            "o\n",
            "r\n"
          ]
        }
      ]
    },
    {
      "cell_type": "code",
      "source": [
        "ciphertext = \"\"\n",
        "for pc in plaintext:\n",
        "  if pc.islower():\n",
        "    cc = (ord(pc)-97)%26 + key\n",
        "    ciphertext += (chr(cc + 97))\n",
        "  elif pc.isupper():\n",
        "    cc = (ord(pc)-65)%26 + key\n",
        "    ciphertext += (chr(cc+ 65))\n",
        "print(ciphertext)"
      ],
      "metadata": {
        "colab": {
          "base_uri": "https://localhost:8080/"
        },
        "id": "W6CDsbD3dJFI",
        "outputId": "4fe8adf0-d0b9-43e2-b073-780ba4e4f25e"
      },
      "execution_count": null,
      "outputs": [
        {
          "output_type": "stream",
          "name": "stdout",
          "text": [
            "Khoor\n"
          ]
        }
      ]
    },
    {
      "cell_type": "code",
      "source": [
        "# decryption proccess\n",
        "deciphertext = \"\"\n",
        "for cc in ciphertext:\n",
        "  if cc.islower():  #tra ve true neu la viet thuong\n",
        "    dc = (ord(cc)- 97)%26 -key\n",
        "    deciphertext += (chr(dc+ 97))\n",
        "  elif cc.isupper():\n",
        "    dc = (ord(cc)-65)%26 -key\n",
        "    deciphertext += (chr(dc + 65))\n",
        "print(deciphertext)"
      ],
      "metadata": {
        "colab": {
          "base_uri": "https://localhost:8080/"
        },
        "id": "lPABGrTKfXw6",
        "outputId": "05e3059e-d738-4ea8-e9ab-f830745eba32"
      },
      "execution_count": null,
      "outputs": [
        {
          "output_type": "stream",
          "name": "stdout",
          "text": [
            "Hello\n"
          ]
        }
      ]
    }
  ]
}