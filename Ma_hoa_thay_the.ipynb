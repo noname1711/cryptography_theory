{
  "nbformat": 4,
  "nbformat_minor": 0,
  "metadata": {
    "colab": {
      "provenance": [],
      "authorship_tag": "ABX9TyO9Il3vtXC2DTRLU3gvdUtI",
      "include_colab_link": true
    },
    "kernelspec": {
      "name": "python3",
      "display_name": "Python 3"
    },
    "language_info": {
      "name": "python"
    }
  },
  "cells": [
    {
      "cell_type": "markdown",
      "metadata": {
        "id": "view-in-github",
        "colab_type": "text"
      },
      "source": [
        "<a href=\"https://colab.research.google.com/github/noname1711/cryptography_theory/blob/main/Ma_hoa_thay_the.ipynb\" target=\"_parent\"><img src=\"https://colab.research.google.com/assets/colab-badge.svg\" alt=\"Open In Colab\"/></a>"
      ]
    },
    {
      "cell_type": "code",
      "execution_count": 1,
      "metadata": {
        "id": "uW308BCITPVr"
      },
      "outputs": [],
      "source": [
        "def create_substitution_cipher(key):\n",
        "    alphabet = \"abcdefghijklmnopqrstuvwxyz\"\n",
        "    key = key.lower()     #thành chữ thường\n",
        "    return str.maketrans(alphabet, key)  #chuyển ktu trg bảng chữ cái -> khóa"
      ]
    },
    {
      "cell_type": "code",
      "source": [
        "#mã hóa\n",
        "def encrypt(text, cipher):\n",
        "    return text.lower().translate(cipher)"
      ],
      "metadata": {
        "id": "67V0DNbQcTti"
      },
      "execution_count": 2,
      "outputs": []
    },
    {
      "cell_type": "code",
      "source": [
        "def decrypt(text, cipher):\n",
        "    #giải mã bằng cách đảo ngược bảng mã hóa\n",
        "    reverse_cipher = {v: k for k, v in cipher.items()}\n",
        "    return text.lower().translate(str.maketrans(reverse_cipher))"
      ],
      "metadata": {
        "id": "tMdb1YwKcXhr"
      },
      "execution_count": 3,
      "outputs": []
    },
    {
      "cell_type": "code",
      "source": [
        "key = \"yudhkemiljfpnwztqvxcorbsga\"  #khóa\n",
        "cipher = create_substitution_cipher(key)  # Tạo bảng mã hóa\n",
        "plaintext = \"abcde\"\n",
        "encrypted_text = encrypt(plaintext, cipher)\n",
        "print(\"Chuỗi đã mã hóa:\", encrypted_text)"
      ],
      "metadata": {
        "id": "8Btulz-EcaF2",
        "colab": {
          "base_uri": "https://localhost:8080/"
        },
        "outputId": "d56d1f7e-5215-4a62-899a-5c769500e5c8"
      },
      "execution_count": 4,
      "outputs": [
        {
          "output_type": "stream",
          "name": "stdout",
          "text": [
            "Chuỗi đã mã hóa: yudhk\n"
          ]
        }
      ]
    },
    {
      "cell_type": "code",
      "source": [
        "plaintext = \"yudhk\"\n",
        "decrypted_text = decrypt(plaintext, cipher)\n",
        "print(\"Chuỗi đã giải mã:\", decrypted_text)"
      ],
      "metadata": {
        "colab": {
          "base_uri": "https://localhost:8080/"
        },
        "id": "154a2l50iszO",
        "outputId": "c996af9d-33e1-4714-9309-a74aee87b8d7"
      },
      "execution_count": 5,
      "outputs": [
        {
          "output_type": "stream",
          "name": "stdout",
          "text": [
            "Chuỗi đã giải mã: abcde\n"
          ]
        }
      ]
    }
  ]
}